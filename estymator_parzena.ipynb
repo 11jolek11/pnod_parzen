{
  "nbformat": 4,
  "nbformat_minor": 0,
  "metadata": {
    "colab": {
      "provenance": [],
      "include_colab_link": true
    },
    "kernelspec": {
      "name": "python3",
      "display_name": "Python 3"
    },
    "language_info": {
      "name": "python"
    }
  },
  "cells": [
    {
      "cell_type": "markdown",
      "metadata": {
        "id": "view-in-github",
        "colab_type": "text"
      },
      "source": [
        "<a href=\"https://colab.research.google.com/github/11jolek11/pnod_parzen/blob/main/estymator_parzena.ipynb\" target=\"_parent\"><img src=\"https://colab.research.google.com/assets/colab-badge.svg\" alt=\"Open In Colab\"/></a>"
      ]
    },
    {
      "cell_type": "markdown",
      "source": [
        "### **Rozkład prawdopodobieństwa** można traktować jako model opisujący dane. <br> \n",
        "O takim modelu możemy mysleć jak o generatorze liczb losowych, który zwraca wyniki o rozkładzie zbliżonym do rozkładu rzeczywistych danych. *Model generatywny* to taki, który potrafi wygenerować syntetyczne dane <font color='orange'>podobne do danych rzeczywistych</font>. <br>\n",
        "Jak dopasowywać rozkłady do danych? <br>\n",
        "Oto plan notatnika.\n",
        "\n",
        "\n",
        "*   **Estymatory parametryczne**, np. z metody maksymalnej wiarygodności.\n",
        "*   Weryfikacja hipotez dotyczących rozkładów: czy dane pochodzą z określonego rozkładu?\n",
        "*   **Estymatory nieparametryczne**, np. estymator Parzena."
      ],
      "metadata": {
        "id": "Orn2ARBiNWkJ"
      }
    },
    {
      "cell_type": "markdown",
      "source": [
        "**Uwaga techniczna**<br>\n",
        "Zakładam, że:\n",
        "*   potrafisz rozróżniać między rozkładami dla zmiennych dyskretnych a funkcjami\n",
        "gęstości dla zmiennych ciągłych, \n",
        "*   wiesz, czym różni się prawdopodobieństwo (ang. *probability*) od wiarygodności (ang. *likelihood*),\n",
        "*   znasz procedurę wyznaczania z funkcji gęstości $f(x)$ prawdopodobieństwa, że losowa wartość $x$ wpadnie do określonego przedziału. \n",
        "\n",
        "W języku angielskim zachodzi miły zbieg okoliczności, że rozkład prawdopodobieństwa nosi nazwę *Probability Distribution Function* a funkcja gęstości *Probability Density Function*, co w obu przypadkach pozwala stosować ten sam skrót *PDF*. Z językowej zazdrości i dla uproszczenia opisów używałem i używać będę określenia *rozkład* w przypadku zarówno dyskretnym jak i ciągłym, a Ty będziesz domyślać się z kontekstu, czy chodzi o *rozkład prawdopodobieństwa*, czy o funkcję gęstości."
      ],
      "metadata": {
        "id": "GwBUZ9UKNdFx"
      }
    },
    {
      "cell_type": "code",
      "source": [
        "import numpy as np\n",
        "import matplotlib.pyplot as plt\n",
        "import pandas as pd"
      ],
      "metadata": {
        "id": "F6y0QyBPNXH9"
      },
      "execution_count": null,
      "outputs": []
    },
    {
      "cell_type": "markdown",
      "source": [
        "#### **Estymator parametryczny** <br>\n",
        "Wzór opisujący rozkład jest z góry określony. <br>\n",
        "Wzór ten ma pewne swobodne parametry, których wartości należy estymować z danych. <br>\n",
        "Postać rozkładu nie zależy od liczby obserwacji zawartych w zbiorze danych. <br>\n",
        "Wartości parametrów rozkładu wyznaczane są w procesie optymalizacji (analitycznej lub numerycznej)."
      ],
      "metadata": {
        "id": "FEzAxwv1NlTj"
      }
    },
    {
      "cell_type": "markdown",
      "source": [
        "Przedstawione dane pomiarowe dotyczą studentów kierunku Inżynieria systemów; zostały zebrane w roku 2020."
      ],
      "metadata": {
        "id": "YCIH2FT1N6Ls"
      }
    },
    {
      "cell_type": "code",
      "source": [
        "!pip install wget"
      ],
      "metadata": {
        "colab": {
          "base_uri": "https://localhost:8080/"
        },
        "id": "VMjkz9WhX41v",
        "outputId": "41233da8-84b7-428f-f17f-b5826e366bfc"
      },
      "execution_count": null,
      "outputs": [
        {
          "output_type": "stream",
          "name": "stdout",
          "text": [
            "Looking in indexes: https://pypi.org/simple, https://us-python.pkg.dev/colab-wheels/public/simple/\n",
            "Collecting wget\n",
            "  Downloading wget-3.2.zip (10 kB)\n",
            "  Preparing metadata (setup.py) ... \u001b[?25l\u001b[?25hdone\n",
            "Building wheels for collected packages: wget\n",
            "  Building wheel for wget (setup.py) ... \u001b[?25l\u001b[?25hdone\n",
            "  Created wheel for wget: filename=wget-3.2-py3-none-any.whl size=9674 sha256=2493ddf5486b70b2b4612a0a092bd4ddae4ca36c589e8ea0923dbfbc1eaf9e7c\n",
            "  Stored in directory: /root/.cache/pip/wheels/bd/a8/c3/3cf2c14a1837a4e04bd98631724e81f33f462d86a1d895fae0\n",
            "Successfully built wget\n",
            "Installing collected packages: wget\n",
            "Successfully installed wget-3.2\n"
          ]
        }
      ]
    },
    {
      "cell_type": "code",
      "source": [
        "plik = 'pomiary2020.xlsx'\n",
        "URL = \"https://raw.githubusercontent.com/jdrapala/datasets/main/\" + plik\n",
        "\n",
        "dane = pd.read_excel(URL) \n",
        "dane.sample(4)"
      ],
      "metadata": {
        "colab": {
          "base_uri": "https://localhost:8080/",
          "height": 175
        },
        "id": "ZrjYUFimNfzN",
        "outputId": "0d392cb9-43b9-423d-f299-874c1091c421"
      },
      "execution_count": null,
      "outputs": [
        {
          "output_type": "execute_result",
          "data": {
            "text/plain": [
              "    waga  wzrost płeć  puls przed  puls po  czas\n",
              "14  71.0     170    K          91      131    59\n",
              "19  50.0     163    K          88       98   176\n",
              "9   80.0     180    M          55      102   165\n",
              "2   68.0     178    M          85       99   180"
            ],
            "text/html": [
              "\n",
              "  <div id=\"df-191bf22f-eded-4189-b5af-a6bcf007bbb8\">\n",
              "    <div class=\"colab-df-container\">\n",
              "      <div>\n",
              "<style scoped>\n",
              "    .dataframe tbody tr th:only-of-type {\n",
              "        vertical-align: middle;\n",
              "    }\n",
              "\n",
              "    .dataframe tbody tr th {\n",
              "        vertical-align: top;\n",
              "    }\n",
              "\n",
              "    .dataframe thead th {\n",
              "        text-align: right;\n",
              "    }\n",
              "</style>\n",
              "<table border=\"1\" class=\"dataframe\">\n",
              "  <thead>\n",
              "    <tr style=\"text-align: right;\">\n",
              "      <th></th>\n",
              "      <th>waga</th>\n",
              "      <th>wzrost</th>\n",
              "      <th>płeć</th>\n",
              "      <th>puls przed</th>\n",
              "      <th>puls po</th>\n",
              "      <th>czas</th>\n",
              "    </tr>\n",
              "  </thead>\n",
              "  <tbody>\n",
              "    <tr>\n",
              "      <th>14</th>\n",
              "      <td>71.0</td>\n",
              "      <td>170</td>\n",
              "      <td>K</td>\n",
              "      <td>91</td>\n",
              "      <td>131</td>\n",
              "      <td>59</td>\n",
              "    </tr>\n",
              "    <tr>\n",
              "      <th>19</th>\n",
              "      <td>50.0</td>\n",
              "      <td>163</td>\n",
              "      <td>K</td>\n",
              "      <td>88</td>\n",
              "      <td>98</td>\n",
              "      <td>176</td>\n",
              "    </tr>\n",
              "    <tr>\n",
              "      <th>9</th>\n",
              "      <td>80.0</td>\n",
              "      <td>180</td>\n",
              "      <td>M</td>\n",
              "      <td>55</td>\n",
              "      <td>102</td>\n",
              "      <td>165</td>\n",
              "    </tr>\n",
              "    <tr>\n",
              "      <th>2</th>\n",
              "      <td>68.0</td>\n",
              "      <td>178</td>\n",
              "      <td>M</td>\n",
              "      <td>85</td>\n",
              "      <td>99</td>\n",
              "      <td>180</td>\n",
              "    </tr>\n",
              "  </tbody>\n",
              "</table>\n",
              "</div>\n",
              "      <button class=\"colab-df-convert\" onclick=\"convertToInteractive('df-191bf22f-eded-4189-b5af-a6bcf007bbb8')\"\n",
              "              title=\"Convert this dataframe to an interactive table.\"\n",
              "              style=\"display:none;\">\n",
              "        \n",
              "  <svg xmlns=\"http://www.w3.org/2000/svg\" height=\"24px\"viewBox=\"0 0 24 24\"\n",
              "       width=\"24px\">\n",
              "    <path d=\"M0 0h24v24H0V0z\" fill=\"none\"/>\n",
              "    <path d=\"M18.56 5.44l.94 2.06.94-2.06 2.06-.94-2.06-.94-.94-2.06-.94 2.06-2.06.94zm-11 1L8.5 8.5l.94-2.06 2.06-.94-2.06-.94L8.5 2.5l-.94 2.06-2.06.94zm10 10l.94 2.06.94-2.06 2.06-.94-2.06-.94-.94-2.06-.94 2.06-2.06.94z\"/><path d=\"M17.41 7.96l-1.37-1.37c-.4-.4-.92-.59-1.43-.59-.52 0-1.04.2-1.43.59L10.3 9.45l-7.72 7.72c-.78.78-.78 2.05 0 2.83L4 21.41c.39.39.9.59 1.41.59.51 0 1.02-.2 1.41-.59l7.78-7.78 2.81-2.81c.8-.78.8-2.07 0-2.86zM5.41 20L4 18.59l7.72-7.72 1.47 1.35L5.41 20z\"/>\n",
              "  </svg>\n",
              "      </button>\n",
              "      \n",
              "  <style>\n",
              "    .colab-df-container {\n",
              "      display:flex;\n",
              "      flex-wrap:wrap;\n",
              "      gap: 12px;\n",
              "    }\n",
              "\n",
              "    .colab-df-convert {\n",
              "      background-color: #E8F0FE;\n",
              "      border: none;\n",
              "      border-radius: 50%;\n",
              "      cursor: pointer;\n",
              "      display: none;\n",
              "      fill: #1967D2;\n",
              "      height: 32px;\n",
              "      padding: 0 0 0 0;\n",
              "      width: 32px;\n",
              "    }\n",
              "\n",
              "    .colab-df-convert:hover {\n",
              "      background-color: #E2EBFA;\n",
              "      box-shadow: 0px 1px 2px rgba(60, 64, 67, 0.3), 0px 1px 3px 1px rgba(60, 64, 67, 0.15);\n",
              "      fill: #174EA6;\n",
              "    }\n",
              "\n",
              "    [theme=dark] .colab-df-convert {\n",
              "      background-color: #3B4455;\n",
              "      fill: #D2E3FC;\n",
              "    }\n",
              "\n",
              "    [theme=dark] .colab-df-convert:hover {\n",
              "      background-color: #434B5C;\n",
              "      box-shadow: 0px 1px 3px 1px rgba(0, 0, 0, 0.15);\n",
              "      filter: drop-shadow(0px 1px 2px rgba(0, 0, 0, 0.3));\n",
              "      fill: #FFFFFF;\n",
              "    }\n",
              "  </style>\n",
              "\n",
              "      <script>\n",
              "        const buttonEl =\n",
              "          document.querySelector('#df-191bf22f-eded-4189-b5af-a6bcf007bbb8 button.colab-df-convert');\n",
              "        buttonEl.style.display =\n",
              "          google.colab.kernel.accessAllowed ? 'block' : 'none';\n",
              "\n",
              "        async function convertToInteractive(key) {\n",
              "          const element = document.querySelector('#df-191bf22f-eded-4189-b5af-a6bcf007bbb8');\n",
              "          const dataTable =\n",
              "            await google.colab.kernel.invokeFunction('convertToInteractive',\n",
              "                                                     [key], {});\n",
              "          if (!dataTable) return;\n",
              "\n",
              "          const docLinkHtml = 'Like what you see? Visit the ' +\n",
              "            '<a target=\"_blank\" href=https://colab.research.google.com/notebooks/data_table.ipynb>data table notebook</a>'\n",
              "            + ' to learn more about interactive tables.';\n",
              "          element.innerHTML = '';\n",
              "          dataTable['output_type'] = 'display_data';\n",
              "          await google.colab.output.renderOutput(dataTable, element);\n",
              "          const docLink = document.createElement('div');\n",
              "          docLink.innerHTML = docLinkHtml;\n",
              "          element.appendChild(docLink);\n",
              "        }\n",
              "      </script>\n",
              "    </div>\n",
              "  </div>\n",
              "  "
            ]
          },
          "metadata": {},
          "execution_count": 20
        }
      ]
    },
    {
      "cell_type": "markdown",
      "source": [
        "Wybierzemy jedną cechę do opisu statystycznego rozkładem normalnym:\n",
        "\\begin{equation}\n",
        "f(x; \\mu, \\sigma)=\\frac{1}{\\sigma\\sqrt{2\\pi}}\\exp\\left[-\\frac{(x-\\mu)^2}{2\\sigma^2}\\right].\n",
        "\\tag{1}\n",
        "\\end{equation}"
      ],
      "metadata": {
        "id": "wVQbrokoOCEJ"
      }
    },
    {
      "cell_type": "code",
      "source": [
        "cecha = 'wzrost'\n",
        "X = dane[cecha].values\n",
        "X_mezcz = X[dane['płeć']=='M']\n",
        "X_kob = X[dane['płeć']=='K']\n",
        "print(f\"Wszystkich: {X.size}\\nKobiet: {X_kob.size}\\nMężczyzn: {X_mezcz.size}\")"
      ],
      "metadata": {
        "colab": {
          "base_uri": "https://localhost:8080/"
        },
        "id": "QFK-H93kN8gl",
        "outputId": "3f1b390a-b70d-44bd-d1f5-4d86ae73e99a"
      },
      "execution_count": null,
      "outputs": [
        {
          "output_type": "stream",
          "name": "stdout",
          "text": [
            "Wszystkich: 46\n",
            "Kobiet: 9\n",
            "Mężczyzn: 37\n"
          ]
        }
      ]
    },
    {
      "cell_type": "code",
      "source": [
        "def rozklad_norm(parametry, x):\n",
        "    mu, sigma = parametry\n",
        "    return np.exp(-(x-mu)**2/(2*sigma**2))/(sigma*np.sqrt(2*np.pi))"
      ],
      "metadata": {
        "id": "_QwgPB5uOE5c"
      },
      "execution_count": null,
      "outputs": []
    },
    {
      "cell_type": "markdown",
      "source": [
        "Estymacja parametrów rozkładu normalnego dla każdej podgrupy. <br> \n",
        "Algorytm metody największej wiarygodności (ang. *Maximum Likelihood method*) podany był na wykładzie. "
      ],
      "metadata": {
        "id": "U56vE2CniTUQ"
      }
    },
    {
      "cell_type": "code",
      "source": [
        "mu_wszyscy, sigma_wszyscy = X.mean(), X.std()\n",
        "mu_mezcz, sigma_mezcz = X_mezcz.mean(), X_mezcz.std()\n",
        "mu_kob, sigma_kob = X_kob.mean(), X_kob.std()"
      ],
      "metadata": {
        "id": "mjFcPCPROHJy"
      },
      "execution_count": null,
      "outputs": []
    },
    {
      "cell_type": "markdown",
      "source": [
        "Ilustracja rozkładów na tle danych, z użyciem biblioteki [```seaborn```](https://seaborn.pydata.org/index.html) dla lepszego efektu."
      ],
      "metadata": {
        "id": "r04wzmr1l-nh"
      }
    },
    {
      "cell_type": "code",
      "source": [
        "os_x = np.linspace(X.min()-10, X.max()+10, num=300)\n",
        "\n",
        "os_y_wszyscy = rozklad_norm([mu_wszyscy, sigma_wszyscy], os_x)\n",
        "os_y_mezcz = rozklad_norm([mu_mezcz, sigma_mezcz], os_x)\n",
        "os_y_kob = rozklad_norm([mu_kob, sigma_kob], os_x)\n",
        "\n",
        "with plt.style.context('seaborn'):  \n",
        "    plt.figure(figsize=(9,4))\n",
        "    plt.plot(X, np.zeros_like(X), 'o', \n",
        "             markersize=10, alpha=0.5, markerfacecolor='tab:green', markeredgecolor='tab:green', \n",
        "             label='wszyscy')\n",
        "    plt.plot(os_x, 25*os_y_wszyscy, color='tab:green')\n",
        "    plt.plot(X_mezcz, np.ones_like(X_mezcz), 'P', \n",
        "             markersize=10, alpha=0.5, markerfacecolor='tab:blue', markeredgecolor='tab:blue', \n",
        "             label='mężczyźni')\n",
        "    plt.plot(os_x, 25*os_y_mezcz+1, color='tab:blue')\n",
        "    plt.plot(X_kob, 2*np.ones_like(X_kob), 'v', \n",
        "             markersize=10, alpha=0.5, markerfacecolor='tab:orange', markeredgecolor='tab:orange', \n",
        "             label='kobiety')\n",
        "    plt.plot(os_x, 25*os_y_kob+2, color='tab:orange')\n",
        "    plt.xlabel(cecha, fontsize=16)\n",
        "    plt.yticks([])\n",
        "plt.legend(shadow=True, fontsize=12)\n",
        "plt.show()"
      ],
      "metadata": {
        "colab": {
          "base_uri": "https://localhost:8080/",
          "height": 284
        },
        "id": "L01C4aajiVwc",
        "outputId": "65519601-6006-47ae-e9ca-22b6aa5f3d7d"
      },
      "execution_count": null,
      "outputs": [
        {
          "output_type": "display_data",
          "data": {
            "text/plain": [
              "<Figure size 648x288 with 1 Axes>"
            ],
            "image/png": "[encoded data removed]"
          },
          "metadata": {}
        }
      ]
    },
    {
      "cell_type": "markdown",
      "source": [
        "Jak oceniasz, metodą na oko (ang. *visual inspection*), czy opisywanie danych rozkładem normalnym jest uzasadnione dla każdej grupy?"
      ],
      "metadata": {
        "id": "cF5smVy2mdCZ"
      }
    },
    {
      "cell_type": "markdown",
      "source": [
        "**Weryfikacja hipotez** <br>\n",
        "Czy te dane w ogóle pochodzą z rozkładu normalnego?"
      ],
      "metadata": {
        "id": "R0hPTeD4mgDg"
      }
    },
    {
      "cell_type": "code",
      "source": [
        "from scipy import stats\n",
        "\n",
        "print(f'Cały zbiór | test Shapiro, p-wartość = {stats.shapiro(X)[1]}')\n",
        "print(f'Cały zbiór | test D’Agostino i Pearsona, p-wartość = {stats.normaltest(X)[1]}\\n')\n",
        "\n",
        "print(f'Podzbiór kobiety | test Shapiro, p-wartość = {stats.shapiro(X_kob)[1]}')\n",
        "print(f'Podzbiór kobiety | test D’Agostino i Pearsona, p-wartość = {stats.normaltest(X_kob)[1]}\\n')\n",
        "\n",
        "print(f'Podzbiór mężczyźni | test Shapiro, p-wartość = {stats.shapiro(X_mezcz)[1]}')\n",
        "print(f'Podzbiór mężczyźni | test D’Agostino i Pearsona, p-wartość = {stats.normaltest(X_mezcz)[1]}\\n')"
      ],
      "metadata": {
        "colab": {
          "base_uri": "https://localhost:8080/"
        },
        "id": "9-iQcl2cmZOJ",
        "outputId": "a157cfa3-a1b0-44f7-ac5c-7409f0188215"
      },
      "execution_count": null,
      "outputs": [
        {
          "output_type": "stream",
          "name": "stdout",
          "text": [
            "Cały zbiór | test Shapiro, p-wartość = 0.7415264844894409\n",
            "Cały zbiór | test D’Agostino i Pearsona, p-wartość = 0.4999461522561214\n",
            "\n",
            "Podzbiór kobiety | test Shapiro, p-wartość = 0.9649487733840942\n",
            "Podzbiór kobiety | test D’Agostino i Pearsona, p-wartość = 0.7786066393666938\n",
            "\n",
            "Podzbiór mężczyźni | test Shapiro, p-wartość = 0.6480407118797302\n",
            "Podzbiór mężczyźni | test D’Agostino i Pearsona, p-wartość = 0.39159142252762885\n",
            "\n"
          ]
        },
        {
          "output_type": "stream",
          "name": "stderr",
          "text": [
            "/usr/local/lib/python3.8/dist-packages/scipy/stats/stats.py:1541: UserWarning: kurtosistest only valid for n>=20 ... continuing anyway, n=9\n",
            "  warnings.warn(\"kurtosistest only valid for n>=20 ... continuing \"\n"
          ]
        }
      ]
    },
    {
      "cell_type": "markdown",
      "source": [
        "Czy umiesz zinterpretować te wyniki?"
      ],
      "metadata": {
        "id": "7_diThyQmo0I"
      }
    },
    {
      "cell_type": "markdown",
      "source": [
        "**Zagadka** sprawdzająca Twoje przygotowanie statystyczne. <br>\n",
        "Jak wyjaśnić poniższe wyniki?"
      ],
      "metadata": {
        "id": "jEtaFk2Bmps0"
      }
    },
    {
      "cell_type": "code",
      "source": [
        "print('=== Test Shapiro ===')\n",
        "print(f\"Dla wagi p-wartość = {stats.shapiro(dane['waga'].values)[1]:0.3f}\")\n",
        "print(f\"Dla wzrostu p-wartość = {stats.shapiro(dane['wzrost'].values)[1]:0.3f}\")\n",
        "print(f\"Łącznie p-wartość = {stats.shapiro(dane[['waga', 'wzrost']].values)[1]:0.3f}\")"
      ],
      "metadata": {
        "colab": {
          "base_uri": "https://localhost:8080/"
        },
        "id": "r45L1WvmmkJM",
        "outputId": "e4f72146-6135-40e5-c3c8-c7d6d5b51cec"
      },
      "execution_count": null,
      "outputs": [
        {
          "output_type": "stream",
          "name": "stdout",
          "text": [
            "=== Test Shapiro ===\n",
            "Dla wagi p-wartość = 0.149\n",
            "Dla wzrostu p-wartość = 0.742\n",
            "Łącznie p-wartość = 0.000\n"
          ]
        }
      ]
    },
    {
      "cell_type": "markdown",
      "source": [
        "#### **O rozkładzie normalnym**\n",
        "\n",
        "W dawnych czasach przedkomputerowych, gdy statystyka dopiero formowała się jako dyscyplina a zbiory danych przechowywane były na cennych kartkach papieru, jednym z niewielu rodzajów regularności jakie można było się dopatrzyć w danych, był rozkład normalny. <br>\n",
        "Wynikało to z ograniczonych możliwości pomiarowych i obliczeniowych w porównaniu z dzisiejszymi czasami. <br>\n",
        "Do dziś funkcjonuje jednak legenda miejska, jakoby rozkład normalny był najczęściej spotykanym ,,w przyrodzie''. Zdarza się, że dokładane jest do niej ,,uzasadnienie'' rzekomej powszechności. Wywoływane jest wóczas centralne twierdzenie graniczne, przy czym nie dba się o to, czy w rzeczywistości spełnione są założenia o niezależności i addytywności zmiennych losowych, które leżą u podstaw tego twierdzenia. <br>\n",
        "Prawda jest taka, że rozkład normalny występuje najczęściej w podręcznikach, ponieważ obliczenia z jego udziałem przebiegają prosto i dają eleganckie wyniki. Rzeczywiste dane układają się w różne rozkłady, wśród których normalny nie jest nadreprezentowany. Co więcej, w dziedzinach związanych z systemami złożonymi, których to systemów pełno jest w przyrodzie i technice, rozkład normalny jest rzadkością (regułą jest za to rozkład geometryczny). Rzecz w tym, że dopiero od stosunkowo niedawna istnieją metody i środki techniczne analizy systemów złożonych. <br>\n",
        "Rozkład normalny pełni mimo wszystko ważną rolę w nauce i technice (podobnie jak inne rozkłady) i doskonale nadaje się jako ,,klocek budulcowy'' rozkładów bardziej skomplikowanych. "
      ],
      "metadata": {
        "id": "xWLZWGzOmvZK"
      }
    },
    {
      "cell_type": "markdown",
      "source": [
        "Na początek warto więc wiedzieć, dlaczego wzór określający rozkład normalny jest taki: $$ f(x; \\mu, \\sigma)=\\frac{1}{\\sigma\\sqrt{2\\pi}}\\exp\\left[-\\frac{(x-\\mu)^2}{2\\sigma^2}\\right]$$\n",
        "a nie inny."
      ],
      "metadata": {
        "id": "2p4Azs9Lm15Q"
      }
    },
    {
      "cell_type": "markdown",
      "source": [
        "Rozkład normalny stosuje się do opisu danych, które grupują się wokół określonej reprezentatywnej wartości (nazywanej *wartością oczekiwaną*; nie mylić z *wartością zadaną*!). Im dalej od niej, tym mniejsza szansa napotkania na jakiś pomiar. Warto zacząć od narysowania wykresu prostej i eleganckiej funkcji:\n",
        "$$f(x)=\\exp\\left[ -x\\right].$$"
      ],
      "metadata": {
        "id": "Nmk73pX8m3Ie"
      }
    },
    {
      "cell_type": "code",
      "source": [
        "os_x = np.linspace(0,3, 300)\n",
        "plt.plot(os_x, np.exp(-os_x));"
      ],
      "metadata": {
        "colab": {
          "base_uri": "https://localhost:8080/",
          "height": 265
        },
        "id": "wGB6nsG3mtDT",
        "outputId": "e3b83483-d576-4d5f-fd7a-8ee787bdc77b"
      },
      "execution_count": null,
      "outputs": [
        {
          "output_type": "display_data",
          "data": {
            "text/plain": [
              "<Figure size 432x288 with 1 Axes>"
            ],
            "image/png": "[encoded data removed]"
          },
          "metadata": {
            "needs_background": "light"
          }
        }
      ]
    },
    {
      "cell_type": "markdown",
      "source": [
        "Ta propozycja nie wystarcza, bo dane powinny być rozrzucone symetrycznie wokół wartości oczekiwanej. Korekta nasuwa się sama:\n",
        "$$f(x)=\\exp\\left[ -|x\\right|].$$"
      ],
      "metadata": {
        "id": "BJ6M5ZCsm9iG"
      }
    },
    {
      "cell_type": "code",
      "source": [
        "os_x = np.linspace(-3,3, 300)\n",
        "plt.plot(os_x, np.exp(-abs(os_x)));"
      ],
      "metadata": {
        "colab": {
          "base_uri": "https://localhost:8080/",
          "height": 265
        },
        "id": "PiUcb-9pm6_p",
        "outputId": "e6ef8aa5-15d7-4179-dc62-67d655cb8822"
      },
      "execution_count": null,
      "outputs": [
        {
          "output_type": "display_data",
          "data": {
            "text/plain": [
              "<Figure size 432x288 with 1 Axes>"
            ],
            "image/png": "[encoded data removed]"
          },
          "metadata": {
            "needs_background": "light"
          }
        }
      ]
    },
    {
      "cell_type": "markdown",
      "source": [
        "Niepokojąco wygląda jednak nieróżniczkowalność funkcji $f$ w wartości oczekiwanej. Ponadto wykładniczy spadek prawdopodobieństwa napotkania obserwacji wydaje się zbyt drastycznie maleć. Oto proste remedium na oba problemy na raz:\n",
        "$$f(x)=\\exp\\left[ -x^2\\right].$$"
      ],
      "metadata": {
        "id": "b0RtYWWEnA7P"
      }
    },
    {
      "cell_type": "code",
      "source": [
        "plt.plot(os_x, np.exp(-os_x**2));"
      ],
      "metadata": {
        "colab": {
          "base_uri": "https://localhost:8080/",
          "height": 265
        },
        "id": "9IocXyXEnAGh",
        "outputId": "23beb443-bd54-495b-f90d-8394fb0853eb"
      },
      "execution_count": null,
      "outputs": [
        {
          "output_type": "display_data",
          "data": {
            "text/plain": [
              "<Figure size 432x288 with 1 Axes>"
            ],
            "image/png": "[encoded data removed]"
          },
          "metadata": {
            "needs_background": "light"
          }
        }
      ]
    },
    {
      "cell_type": "markdown",
      "source": [
        "Wartość oczekiwana nie musi leżeć w zerze, jej położenie zależy od miejsca zgrupowania danych. <br>\n",
        "Wartość oczekiwaną oznacza się symbolem $\\mu$. <br>\n",
        "Aby ulokować $f(x)$ nad zadaną wartością $\\mu$, wystarczy przesunąć argument do $x-\\mu$: <br>\n",
        "$$f(x)=\\exp\\left[ -(x-\\mu)^2\\right].$$"
      ],
      "metadata": {
        "id": "Rm7sLUaJnXrP"
      }
    },
    {
      "cell_type": "markdown",
      "source": [
        "Ponadto zachodzi potrzeba uwzględnienia rozrzutu danych wokół $\\mu$. <br>\n",
        "W tym celu trzeba pomnożyć lub podzielić wykładnik przez drugi parametr, który oznaczymy $\\sigma$. Wybierzemy dzielenie, aby większe wartości $\\sigma$ opisywały większy rozrzut (odchylenie) danych od wartości oczekiwanej $\\mu$:\n",
        "$$\\frac{x-\\mu}{\\sigma}.$$\n",
        "Powyższy zabieg określany jest jako standaryzacja zmiennej $x$, zatem parametr $\\sigma$ określa się mianem *odchylenia standardowego*. <br>\n",
        "Otrzymujemy wzór:\n",
        "$$f(x)=\\exp\\left[ -\\left(\\frac{x-\\mu}{\\sigma}\\right)^2\\right],$$\n",
        "zapisywany w podręcznika zwyczajowo w postaci:\n",
        "$$f(x)=\\exp\\left[ -\\frac{(x-\\mu)^2}{\\sigma^2}\\right].$$\n",
        "Jeżeli ma on służyć jako rozkład, to musi spełnić warunek unormowania (pole pod całym wykresem ma być równe $1$)."
      ],
      "metadata": {
        "id": "NppxoifKnakT"
      }
    },
    {
      "cell_type": "code",
      "source": [
        "def f(x, mu=0, sigma=1):\n",
        "    return np.exp(-((x-mu)/sigma)**2)\n",
        "\n",
        "from scipy import integrate\n",
        "print(f'Pole pod wykresem: {integrate.quad(f, -np.inf, np.inf)[0]}')"
      ],
      "metadata": {
        "colab": {
          "base_uri": "https://localhost:8080/"
        },
        "id": "FqJC4WoVnW6V",
        "outputId": "f6db4665-6e4b-41b3-b580-899f9e3a8d54"
      },
      "execution_count": null,
      "outputs": [
        {
          "output_type": "stream",
          "name": "stdout",
          "text": [
            "Pole pod wykresem: 1.7724538509055159\n"
          ]
        }
      ]
    },
    {
      "cell_type": "markdown",
      "source": [
        "Niestety, trzeba wykonać dodatkową pracę nad sprowadzeniem całki z $f(x)$ do $1$. <br>\n",
        "Oto znormalizowana wersja funkcji $f(x)$, znana pod nazwą rozkładu normalnego:\n",
        "$$ f(x; \\mu, \\sigma)=\\frac{1}{\\sigma\\sqrt{2\\pi}}\\exp\\left[-\\frac{(x-\\mu)^2}{2\\sigma^2}\\right].$$\n",
        "Obecność $\\pi$ we wzorze sugeruje, że rozkład normalny ma coś wspólnego z kołem. <br>\n",
        "W komórce poniżej narysuj wykresy rozkładu normalnego dla różnych wartości parametrów $\\mu$, $\\sigma$. Każdorazowo sprawdź pole pod wykresem."
      ],
      "metadata": {
        "id": "5JeOTe0hnh0j"
      }
    },
    {
      "cell_type": "code",
      "source": [
        "# Oto komórka do pracy własnej\n"
      ],
      "metadata": {
        "id": "zEYD9ecFng9R"
      },
      "execution_count": null,
      "outputs": []
    },
    {
      "cell_type": "markdown",
      "source": [
        "Posługując się metodą maksymalnej wiarygodności (spójrz na wykład), można wyznaczyć analitycznie nieobciążone estymatory wartości $\\mu$ i $\\sigma$, które dają najlepsze dopasowanie rozkładu normalnego do zbioru danych $\\left\\{ x_i\\right\\}_{i=1}^N$:\n",
        "$$\\widehat{\\mu} = \\frac{1}{N}\\sum_{i=1}^Nx_i,$$\n",
        "$$\\widehat{\\sigma}^2 = \\frac{1}{N}\\sum_{i=1}^N(x_i-\\mu)^2,$$\n",
        "dla znanej wartości $\\mu$ lub:\n",
        "$$\\widehat{\\sigma}^2 = \\frac{1}{N-1}\\sum_{i=1}^N(x_i-\\widehat{\\mu})^2,$$\n",
        "gdy oba parametry są estymowane z tego samego zbioru danych. <br>\n",
        "**Ciekawostka**: gdy $N$ jest duże, nie ma większego znaczenia czy dzielisz przez $N$ czy przez $N-1$."
      ],
      "metadata": {
        "id": "3iFo22xVnmoB"
      }
    },
    {
      "cell_type": "markdown",
      "source": [
        "#### **Estymator nieparametryczny** <br>\n",
        "Określona jest jedynie ogólna postać wzoru opisującego rozkład. <br>\n",
        "Jego dokładna  postać zależy od liczby obserwacji zawartych w zbiorze danych. <br>\n",
        "Rozkład może mieć pewne parametry, których wartość zależy od użytkownika lub od danych. <br>\n",
        "Dopasowanie rozkładu do danych nie wymaga procesu optymalizacji."
      ],
      "metadata": {
        "id": "yYmzW54FnrxI"
      }
    },
    {
      "cell_type": "markdown",
      "source": [
        "**Estymator Parzena**. Niniejszy fragment notatnika jest inspirowany pierwszym rozdziałem książki:<br>\n",
        "Piotr Kulczycki, [Estymatory jądrowe w analizie systemowej](https://www.ibspan.waw.pl/~kulpi/publ/Kulczycki_-_Estymatory_jadrowe_w_analizie_systemowej_-_WNT_-_2005.pdf), WNT 2005."
      ],
      "metadata": {
        "id": "lMN1-4zintAf"
      }
    },
    {
      "cell_type": "markdown",
      "source": [
        "Zaimplementujemy rozkład normalny w nieco inny sposób niż funkcję $f$. <br>\n",
        "Utworzymy funkcję $K$, która jest równoważna funkcji $f$ dla $\\mu=0$ i $\\sigma=1$:\n",
        "\\begin{equation}\n",
        "K(x)=\\frac{1}{\\sqrt{2\\pi}}\\exp\\left[-\\frac{x^2}{2}\\right].\n",
        "\\tag{2}\n",
        "\\end{equation}\n",
        "Nosi ona nazwę **funkcji jądrowej** (ang. *kernel*). Funkcja musi spełnić pewne warunki, aby zasługiwała na tę nazwę (patrz: wykład lub książka podana wyżej). Ciekawe przykłady innych funkcji jądrowych można znaleźć w [tym artykule](https://arxiv.org/pdf/1212.2812.pdf)."
      ],
      "metadata": {
        "id": "cBUYrlYYnxkY"
      }
    },
    {
      "cell_type": "code",
      "source": [
        "def K(x):\n",
        "    return np.exp(-x**2/2)/np.sqrt(2*np.pi)"
      ],
      "metadata": {
        "id": "WNDbyxkmnmCj"
      },
      "execution_count": null,
      "outputs": []
    },
    {
      "cell_type": "markdown",
      "source": [
        "Aby ulokować maksimum funkcji $K$ w punkcie $x_i$ pochodzącym ze zbioru danych, wystarczy wywołać:\n",
        "$$K(x-x_i).$$\n",
        "Uwzględnienie rozproszenia wymaga dzielenia przez parametr, który oznaczać będziemy przez $h$:\n",
        "$$K\\left(\\frac{x-x_i}{h}\\right).$$\n",
        "Parametr $h$ pełni tę samą rolę, co wcześniej $\\sigma$, ale trzeba jakoś podkreślić różnicę między stosowaniem funkcji jako rozkładu i jako jądra estymatora nieparametrycznego. Umowna nazwa $h$ to **szerokość okna** (ang. *bandwidth*). <br>\n",
        "Rozciągnięcie wykresu $K$ o czynnik $h$ spowoduje $h$-krotny wzrost pola pod jej wykresem. Unormowanie funkcji jądrowej osiągnąć można w prosty sposób:\n",
        "\\begin{equation}\n",
        "\\frac{1}{h}K\\left(\\frac{x-x_i}{h}\\right).\n",
        "\\tag{3}\n",
        "\\end{equation}"
      ],
      "metadata": {
        "id": "NFUs2JXooCV1"
      }
    },
    {
      "cell_type": "markdown",
      "source": [
        "Dane pomiarowe $\\left\\{x_i\\right\\}_{i=1}^N$ wpisane ręcznie. "
      ],
      "metadata": {
        "id": "g2-rxpIQoDSc"
      }
    },
    {
      "cell_type": "code",
      "source": [
        "X = np.array([1.33, 0.3, 0.97, 1.1, 0.1, 1.4, 0.4])"
      ],
      "metadata": {
        "id": "CIvclQVln3lh"
      },
      "execution_count": null,
      "outputs": []
    },
    {
      "cell_type": "markdown",
      "source": [
        "Ustalamy arbitralnie $h=0.3$. Ta wartość może być wynikiem kłótni ekspertów."
      ],
      "metadata": {
        "id": "cGCxZfF9oII8"
      }
    },
    {
      "cell_type": "markdown",
      "source": [
        "Załóżmy, że pomiary przychodzą pojedynczo w takiej kolejności, jak w powyższej serii. Przypominam, że $x_1$ w zbiorze danych odpowiada ```X[0]``` w kodzie. <br>\n",
        "Gdy dostępny jest tylko jeden pomiar $x_1$, to jedyna rozsądna możliwość rozpięcia nad nim rozkładu jest taka:\n",
        "$$\\frac{1}{h}K\\left( \\frac{x-x_1}{h}\\right).$$"
      ],
      "metadata": {
        "id": "GO5YqsSqoKoL"
      }
    },
    {
      "cell_type": "code",
      "source": [
        "os_x = np.linspace(X.min()-1, X.max()+1, num=300)\n",
        "\n",
        "h = 0.3\n",
        "\n",
        "os_y1 = K((os_x - X[0])/h)/h \n",
        "\n",
        "plt.plot(os_x, os_y1)\n",
        "plt.plot(X[0],0, 's', color='black')\n",
        "plt.annotate(r'$x_1$', xy=[X[0],0.05], horizontalalignment='center', fontsize=12)\n",
        "plt.show()"
      ],
      "metadata": {
        "colab": {
          "base_uri": "https://localhost:8080/",
          "height": 265
        },
        "id": "b_e5XYW6oHZw",
        "outputId": "a5d50277-57d8-4363-a342-96e96c30039c"
      },
      "execution_count": null,
      "outputs": [
        {
          "output_type": "display_data",
          "data": {
            "text/plain": [
              "<Figure size 432x288 with 1 Axes>"
            ],
            "image/png": "[encoded data removed]"
          },
          "metadata": {
            "needs_background": "light"
          }
        }
      ]
    },
    {
      "cell_type": "markdown",
      "source": [
        "Pojawia się drugi pomiar $x_2$. Jemu również można przydzielić funkcję\n",
        "$$\\frac{1}{h}K\\left( \\frac{x-x_2}{h}\\right),$$\n",
        "ale obie trzeba połączyć w jeden rozkład:\n",
        "$$\\frac{1}{2}\\Bigg[\\frac{1}{h}K\\left( \\frac{x-x_1}{h}\\right) + \\frac{1}{h}K\\left( \\frac{x-x_2}{h}\\right)\\Bigg].$$\n",
        "Dzielenie przez $2$ pozwala zachować unormowanie całego rozkładu."
      ],
      "metadata": {
        "id": "H1220VehoP-G"
      }
    },
    {
      "cell_type": "code",
      "source": [
        "h = 0.3\n",
        "os_y2 = K((os_x - X[1])/h)/h \n",
        "os_y = (K((os_x - X[0])/h)/h + K((os_x - X[1])/h)/h)/2 \n",
        "\n",
        "plt.plot(os_x, os_y1, alpha=0.8, linestyle='dashed')\n",
        "plt.plot(os_x, os_y2, alpha=0.8, linestyle='dashed')\n",
        "plt.plot(os_x, os_y, linewidth=3)\n",
        "plt.plot(X[0],0, 's', color='black')\n",
        "plt.plot(X[1],0, 's', color='black')\n",
        "plt.annotate(r'$x_1$', xy=[X[0],0.05], horizontalalignment='center', fontsize=12)\n",
        "plt.annotate(r'$x_2$', xy=[X[1],0.05], horizontalalignment='center', fontsize=12)\n",
        "plt.show()"
      ],
      "metadata": {
        "colab": {
          "base_uri": "https://localhost:8080/",
          "height": 265
        },
        "id": "qsvi911ZoPEG",
        "outputId": "ed6079b0-d24f-48f1-efbb-c5c69630fbf5"
      },
      "execution_count": null,
      "outputs": [
        {
          "output_type": "display_data",
          "data": {
            "text/plain": [
              "<Figure size 432x288 with 1 Axes>"
            ],
            "image/png": "[encoded data removed]"
          },
          "metadata": {
            "needs_background": "light"
          }
        }
      ]
    },
    {
      "cell_type": "markdown",
      "source": [
        "**Zbadaj** wpływ doboru wartości parametru $h$ na rozkład."
      ],
      "metadata": {
        "id": "NXnoWIjloXH6"
      }
    },
    {
      "cell_type": "markdown",
      "source": [
        "Powinno być już teraz jasne, skąd się bierze wzór na **estymator Parzena**: \n",
        "\\begin{equation}\n",
        "f(\\mathbf{x}) = \\frac{1}{Nh^d} \\sum_{i=1}^{N} K\\left(\\frac{\\mathbf{x} - \\mathbf{x}_i}{h}\\right),\n",
        "\\end{equation}\n",
        "gdzie  $d$ oznacza wymiarowość wektora $\\mathbf{x}$, czyli liczbę cech. W podanych przykładach $d=1$."
      ],
      "metadata": {
        "id": "uljNsrgWoXOV"
      }
    },
    {
      "cell_type": "code",
      "source": [
        "H = [0.3, 0.1, 0.05]\n",
        "N = X.size\n",
        "\n",
        "plt.figure(figsize=(10,4))\n",
        "for h in H:\n",
        "    suma = 0\n",
        "    for nr, pomiar in enumerate(X):\n",
        "        suma += K((os_x-pomiar)/h)\n",
        "        plt.annotate(r'$x_{}$'.format(nr+1), xy=[X[nr],0.05], horizontalalignment='center', fontsize=12)\n",
        "    os_y = suma/(h*N)\n",
        "    plt.plot(os_x, os_y, label=f'h = {h}')\n",
        "\n",
        "    plt.plot(X, np.zeros_like(X) , 's', markersize=5, color='black', label='dane')\n",
        "plt.xlabel('$x$', fontsize=14)\n",
        "plt.ylabel('$f$', fontsize=14, rotation='horizontal', labelpad=15)\n",
        "plt.legend(fontsize=12, shadow=True)\n",
        "plt.show()"
      ],
      "metadata": {
        "colab": {
          "base_uri": "https://localhost:8080/",
          "height": 283
        },
        "id": "WnaAu25hoUGI",
        "outputId": "bc003da8-38b1-4f96-84b1-f8e862e7b3d1"
      },
      "execution_count": null,
      "outputs": [
        {
          "output_type": "display_data",
          "data": {
            "text/plain": [
              "<Figure size 720x288 with 1 Axes>"
            ],
            "image/png": "[encoded data removed]"
          },
          "metadata": {
            "needs_background": "light"
          }
        }
      ]
    },
    {
      "cell_type": "markdown",
      "source": [
        "**Zastosuj** estymator Parzena do prawdziwego zbioru danych przedstawionego na początku notatnika. "
      ],
      "metadata": {
        "id": "lumdMkXTodpW"
      }
    },
    {
      "cell_type": "code",
      "source": [
        "#  komórka na wykonanie zadania\n"
      ],
      "metadata": {
        "id": "oreAz5E0ocns"
      },
      "execution_count": null,
      "outputs": []
    },
    {
      "cell_type": "markdown",
      "source": [
        "Wykorzystaj do wykonania tego samego zadania procedurę [```kdeplot```](https://seaborn.pydata.org/generated/seaborn.kdeplot.html) biblioteki ```seaborn```. Sposób jej użycia przedstawiony jest w podanej dokumentacji."
      ],
      "metadata": {
        "id": "8voCylrHoiF7"
      }
    },
    {
      "cell_type": "code",
      "source": [
        "import seaborn as sns\n",
        "#  komórka na wykonanie zadania\n"
      ],
      "metadata": {
        "id": "og-PNMc-ohae"
      },
      "execution_count": null,
      "outputs": []
    },
    {
      "cell_type": "markdown",
      "source": [
        "Zbadaj możliwości procedur ```kdeplot``` oraz [```jointplot```](https://seaborn.pydata.org/generated/seaborn.jointplot.html) w zakresie estymacji i wizualizacji rozkładów danych dwuwymiarowych. "
      ],
      "metadata": {
        "id": "JkHx6tHhomYr"
      }
    },
    {
      "cell_type": "code",
      "source": [
        "dane_sub = dane[['waga', 'wzrost']]\n",
        "display(dane_sub.sample(5))\n",
        "\n",
        "# komórka na wykonanie zadania\n"
      ],
      "metadata": {
        "colab": {
          "base_uri": "https://localhost:8080/",
          "height": 206
        },
        "id": "kmYzuec4ol0K",
        "outputId": "f26c7eaa-164c-488d-d922-12419e7f9ecf"
      },
      "execution_count": null,
      "outputs": [
        {
          "output_type": "display_data",
          "data": {
            "text/plain": [
              "    waga  wzrost\n",
              "14  71.0     170\n",
              "38  50.0     164\n",
              "12  90.0     192\n",
              "41  68.0     178\n",
              "29  82.0     188"
            ],
            "text/html": [
              "\n",
              "  <div id=\"df-75749b0a-1443-4c29-bae6-c1748ebf75bf\">\n",
              "    <div class=\"colab-df-container\">\n",
              "      <div>\n",
              "<style scoped>\n",
              "    .dataframe tbody tr th:only-of-type {\n",
              "        vertical-align: middle;\n",
              "    }\n",
              "\n",
              "    .dataframe tbody tr th {\n",
              "        vertical-align: top;\n",
              "    }\n",
              "\n",
              "    .dataframe thead th {\n",
              "        text-align: right;\n",
              "    }\n",
              "</style>\n",
              "<table border=\"1\" class=\"dataframe\">\n",
              "  <thead>\n",
              "    <tr style=\"text-align: right;\">\n",
              "      <th></th>\n",
              "      <th>waga</th>\n",
              "      <th>wzrost</th>\n",
              "    </tr>\n",
              "  </thead>\n",
              "  <tbody>\n",
              "    <tr>\n",
              "      <th>14</th>\n",
              "      <td>71.0</td>\n",
              "      <td>170</td>\n",
              "    </tr>\n",
              "    <tr>\n",
              "      <th>38</th>\n",
              "      <td>50.0</td>\n",
              "      <td>164</td>\n",
              "    </tr>\n",
              "    <tr>\n",
              "      <th>12</th>\n",
              "      <td>90.0</td>\n",
              "      <td>192</td>\n",
              "    </tr>\n",
              "    <tr>\n",
              "      <th>41</th>\n",
              "      <td>68.0</td>\n",
              "      <td>178</td>\n",
              "    </tr>\n",
              "    <tr>\n",
              "      <th>29</th>\n",
              "      <td>82.0</td>\n",
              "      <td>188</td>\n",
              "    </tr>\n",
              "  </tbody>\n",
              "</table>\n",
              "</div>\n",
              "      <button class=\"colab-df-convert\" onclick=\"convertToInteractive('df-75749b0a-1443-4c29-bae6-c1748ebf75bf')\"\n",
              "              title=\"Convert this dataframe to an interactive table.\"\n",
              "              style=\"display:none;\">\n",
              "        \n",
              "  <svg xmlns=\"http://www.w3.org/2000/svg\" height=\"24px\"viewBox=\"0 0 24 24\"\n",
              "       width=\"24px\">\n",
              "    <path d=\"M0 0h24v24H0V0z\" fill=\"none\"/>\n",
              "    <path d=\"M18.56 5.44l.94 2.06.94-2.06 2.06-.94-2.06-.94-.94-2.06-.94 2.06-2.06.94zm-11 1L8.5 8.5l.94-2.06 2.06-.94-2.06-.94L8.5 2.5l-.94 2.06-2.06.94zm10 10l.94 2.06.94-2.06 2.06-.94-2.06-.94-.94-2.06-.94 2.06-2.06.94z\"/><path d=\"M17.41 7.96l-1.37-1.37c-.4-.4-.92-.59-1.43-.59-.52 0-1.04.2-1.43.59L10.3 9.45l-7.72 7.72c-.78.78-.78 2.05 0 2.83L4 21.41c.39.39.9.59 1.41.59.51 0 1.02-.2 1.41-.59l7.78-7.78 2.81-2.81c.8-.78.8-2.07 0-2.86zM5.41 20L4 18.59l7.72-7.72 1.47 1.35L5.41 20z\"/>\n",
              "  </svg>\n",
              "      </button>\n",
              "      \n",
              "  <style>\n",
              "    .colab-df-container {\n",
              "      display:flex;\n",
              "      flex-wrap:wrap;\n",
              "      gap: 12px;\n",
              "    }\n",
              "\n",
              "    .colab-df-convert {\n",
              "      background-color: #E8F0FE;\n",
              "      border: none;\n",
              "      border-radius: 50%;\n",
              "      cursor: pointer;\n",
              "      display: none;\n",
              "      fill: #1967D2;\n",
              "      height: 32px;\n",
              "      padding: 0 0 0 0;\n",
              "      width: 32px;\n",
              "    }\n",
              "\n",
              "    .colab-df-convert:hover {\n",
              "      background-color: #E2EBFA;\n",
              "      box-shadow: 0px 1px 2px rgba(60, 64, 67, 0.3), 0px 1px 3px 1px rgba(60, 64, 67, 0.15);\n",
              "      fill: #174EA6;\n",
              "    }\n",
              "\n",
              "    [theme=dark] .colab-df-convert {\n",
              "      background-color: #3B4455;\n",
              "      fill: #D2E3FC;\n",
              "    }\n",
              "\n",
              "    [theme=dark] .colab-df-convert:hover {\n",
              "      background-color: #434B5C;\n",
              "      box-shadow: 0px 1px 3px 1px rgba(0, 0, 0, 0.15);\n",
              "      filter: drop-shadow(0px 1px 2px rgba(0, 0, 0, 0.3));\n",
              "      fill: #FFFFFF;\n",
              "    }\n",
              "  </style>\n",
              "\n",
              "      <script>\n",
              "        const buttonEl =\n",
              "          document.querySelector('#df-75749b0a-1443-4c29-bae6-c1748ebf75bf button.colab-df-convert');\n",
              "        buttonEl.style.display =\n",
              "          google.colab.kernel.accessAllowed ? 'block' : 'none';\n",
              "\n",
              "        async function convertToInteractive(key) {\n",
              "          const element = document.querySelector('#df-75749b0a-1443-4c29-bae6-c1748ebf75bf');\n",
              "          const dataTable =\n",
              "            await google.colab.kernel.invokeFunction('convertToInteractive',\n",
              "                                                     [key], {});\n",
              "          if (!dataTable) return;\n",
              "\n",
              "          const docLinkHtml = 'Like what you see? Visit the ' +\n",
              "            '<a target=\"_blank\" href=https://colab.research.google.com/notebooks/data_table.ipynb>data table notebook</a>'\n",
              "            + ' to learn more about interactive tables.';\n",
              "          element.innerHTML = '';\n",
              "          dataTable['output_type'] = 'display_data';\n",
              "          await google.colab.output.renderOutput(dataTable, element);\n",
              "          const docLink = document.createElement('div');\n",
              "          docLink.innerHTML = docLinkHtml;\n",
              "          element.appendChild(docLink);\n",
              "        }\n",
              "      </script>\n",
              "    </div>\n",
              "  </div>\n",
              "  "
            ]
          },
          "metadata": {}
        }
      ]
    },
    {
      "cell_type": "markdown",
      "source": [],
      "metadata": {
        "id": "8DTyV2ctosGB"
      }
    },
    {
      "cell_type": "code",
      "source": [],
      "metadata": {
        "id": "MuyI0pEborSE"
      },
      "execution_count": null,
      "outputs": []
    }
  ]
}